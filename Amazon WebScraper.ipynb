{
 "cells": [
  {
   "cell_type": "code",
   "execution_count": 5,
   "id": "6c5c99a8",
   "metadata": {},
   "outputs": [],
   "source": [
    "#import libraries\n",
    "from bs4 import BeautifulSoup #to \"call\" the html page (1)\n",
    "import requests #to \"call\" the html page\n",
    "import smtplib #email\n",
    "import time #to set the time of updating (1)\n",
    "import datetime #to set the time of updating (2)\n",
    "import pandas as pd\n",
    "import csv"
   ]
  },
  {
   "cell_type": "code",
   "execution_count": null,
   "id": "ab3985bf",
   "metadata": {},
   "outputs": [],
   "source": [
    "# getting the page's information\n",
    "URL = 'https://www.amazon.com.br/PlayStation-Console-PlayStation%C2%AE5/dp/B088GNRX3J/ref=sr_1_1?dchild=1&keywords=playstation+5&qid=1630628596&sr=8-1&ufe=app_do%3Aamzn1.fos.25548f35-0de7-44b3-b28e-0f56f3f96147'\n",
    "\n",
    "\n",
    "headers = {\"User-Agent\": \"Mozilla/5.0 (Windows NT 10.0; Win64; x64) AppleWebKit/537.36 (KHTML, like Gecko) Chrome/92.0.4515.159 Safari/537.36\"}\n",
    "\n",
    "page = requests.get(URL, headers=headers)\n",
    "\n",
    "soup1 = BeautifulSoup(page.content, \"html.parser\")\n",
    "\n",
    "soup2 = BeautifulSoup(soup1.prettify(), 'html.parser')\n",
    "\n",
    "title = soup2.find(id='productTitle').get_text()\n",
    "\n",
    "price = soup2.find(id='priceblock_ourprice').get_text()"
   ]
  },
  {
   "cell_type": "code",
   "execution_count": null,
   "id": "d8889079",
   "metadata": {},
   "outputs": [],
   "source": [
    "\n",
    "title1 = title.strip()\n",
    "price1 = price.strip()[3:]\n",
    "\n",
    "print(title1)\n",
    "print(price1)"
   ]
  },
  {
   "cell_type": "code",
   "execution_count": null,
   "id": "b3ca46bf",
   "metadata": {},
   "outputs": [],
   "source": [
    "import datetime \n",
    "today = datetime.date.today()\n",
    "print(today)"
   ]
  },
  {
   "cell_type": "code",
   "execution_count": null,
   "id": "6796c676",
   "metadata": {},
   "outputs": [],
   "source": [
    "header =['Title','Price', 'Date']\n",
    "data = [title1, price1, today]\n",
    "with open('AmazonWebScraperPS5.csv', 'w', newline='', encoding ='UTF8') as f:\n",
    "    writer = csv.writer(f)\n",
    "    writer.writerow(header)\n",
    "    writer.writerow(data)\n"
   ]
  },
  {
   "cell_type": "code",
   "execution_count": null,
   "id": "cfa49a84",
   "metadata": {},
   "outputs": [],
   "source": [
    "df = pd.read_csv('C:/Users/thiag/AmazonWebScraperPS5.csv')\n",
    "df"
   ]
  },
  {
   "cell_type": "code",
   "execution_count": null,
   "id": "d497c16a",
   "metadata": {},
   "outputs": [],
   "source": [
    "with open('AmazonWebScraperPS5.csv', 'a+', newline='', encoding ='UTF8') as f:\n",
    "    writer = csv.writer(f)\n",
    "    writer.writerow(data)"
   ]
  },
  {
   "cell_type": "code",
   "execution_count": null,
   "id": "5356f1cf",
   "metadata": {},
   "outputs": [],
   "source": [
    "#appending \n",
    "\n",
    "def check_price8():\n",
    "    URL = 'https://www.amazon.com.br/PlayStation-Console-PlayStation%C2%AE5/dp/B088GNRX3J/ref=sr_1_1?dchild=1&keywords=playstation+5&qid=1630628596&sr=8-1&ufe=app_do%3Aamzn1.fos.25548f35-0de7-44b3-b28e-0f56f3f96147'\n",
    "\n",
    "    headers = {\"User-Agent\": \"Mozilla/5.0 (Windows NT 10.0; Win64; x64) AppleWebKit/537.36 (KHTML, like Gecko) Chrome/92.0.4515.159 Safari/537.36\"}\n",
    "\n",
    "    page = requests.get(URL, headers=headers)\n",
    "\n",
    "    soup1 = BeautifulSoup(page.content, \"html.parser\")\n",
    "\n",
    "    soup2 = BeautifulSoup(soup1.prettify(), 'html.parser')\n",
    "    \n",
    "    title = soup2.find(id='productTitle').get_text()\n",
    "    \n",
    "    price = soup2.find(id='priceblock_ourprice').get_text()\n",
    "    \n",
    "    title1 = title.strip()\n",
    "    \n",
    "    price1 = price.strip()[3:]\n",
    "    \n",
    "    import datetime\n",
    "    \n",
    "    datetime.date.today()\n",
    "    \n",
    "    import csv\n",
    "    \n",
    "    header =['Title','Price', 'Date']\n",
    "    \n",
    "    data = [title1, price1, today]\n",
    "    \n",
    "    with open('AmazonWebScraperPS5.csv', 'a+', newline='', encoding ='UTF8') as f:\n",
    "        writer = csv.writer(f)\n",
    "        writer.writerow(data)\n",
    "    \n",
    "    \n",
    "    if (price1 < 6000):\n",
    "        send_mail()\n",
    "    \n",
    "    "
   ]
  },
  {
   "cell_type": "code",
   "execution_count": null,
   "id": "1f5986a8",
   "metadata": {},
   "outputs": [],
   "source": [
    "#setting the time to update the csv file. I've choose every 6 hours. \n",
    "\n",
    "while(True):\n",
    "    check_price8()\n",
    "    time.sleep(14400)"
   ]
  },
  {
   "cell_type": "code",
   "execution_count": null,
   "id": "2e5d00cf",
   "metadata": {},
   "outputs": [],
   "source": [
    "df = pd.read_csv('C:/Users/thiag/AmazonWebScraperPS5.csv')\n",
    "df"
   ]
  },
  {
   "cell_type": "code",
   "execution_count": null,
   "id": "f39e9ba6",
   "metadata": {},
   "outputs": [],
   "source": [
    "#sending the email everytime that the price hits less than R$ 6000\n",
    "\n",
    "def send_mail():\n",
    "    server = smtplib.SMTP_SSL('smtp.gmail.com',465)\n",
    "    server.ehlo()\n",
    "    server.ehlo()\n",
    "    server.login('thiagoxxxxxx@gmail.com', 'xxxxxxxxx')\n",
    "    \n",
    "    assunto = \"O PS5 baixou de preço!\"\n",
    "    mensagem = \"Olá, Thiago. Você criou um alerta de preço para compra do PS5 quando ele estiver menos que R$ 6000. Essa é sua chance!\"\n",
    "    \n",
    "    msg = f\"Subject: {assunto}\\n\\n{mensagem}\"\n",
    "    \n",
    "    server.sendmail(\n",
    "        'thiagoxxxxxx2@gmail.com',\n",
    "        msg\n",
    "    \n",
    "    )"
   ]
  },
  {
   "cell_type": "code",
   "execution_count": null,
   "id": "2ca4fdfc",
   "metadata": {},
   "outputs": [],
   "source": []
  }
 ],
 "metadata": {
  "kernelspec": {
   "display_name": "Python 3",
   "language": "python",
   "name": "python3"
  },
  "language_info": {
   "codemirror_mode": {
    "name": "ipython",
    "version": 3
   },
   "file_extension": ".py",
   "mimetype": "text/x-python",
   "name": "python",
   "nbconvert_exporter": "python",
   "pygments_lexer": "ipython3",
   "version": "3.8.8"
  }
 },
 "nbformat": 4,
 "nbformat_minor": 5
}
